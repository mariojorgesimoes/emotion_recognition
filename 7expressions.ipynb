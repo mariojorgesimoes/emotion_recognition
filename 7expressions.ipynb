{
  "nbformat": 4,
  "nbformat_minor": 0,
  "metadata": {
    "accelerator": "GPU",
    "colab": {
      "provenance": []
    },
    "kernelspec": {
      "display_name": "Python 3",
      "language": "python",
      "name": "python3"
    },
    "language_info": {
      "codemirror_mode": {
        "name": "ipython",
        "version": 3
      },
      "file_extension": ".py",
      "mimetype": "text/x-python",
      "name": "python",
      "nbconvert_exporter": "python",
      "pygments_lexer": "ipython3",
      "version": "3.9.2"
    }
  },
  "cells": [
    {
      "cell_type": "markdown",
      "metadata": {
        "id": "_8S5iydGcZFP"
      },
      "source": [
        "# Facial Expression Recognition with TensorFlow 2.0"
      ]
    },
    {
      "cell_type": "markdown",
      "metadata": {
        "id": "3B9Q9litc6dO"
      },
      "source": [
        "Changing TensorFlow Version to 2.0"
      ]
    },
    {
      "cell_type": "code",
      "metadata": {
        "id": "3u82BeElcl7p"
      },
      "source": [
        " %tensorflow_version 2.x"
      ],
      "execution_count": null,
      "outputs": []
    },
    {
      "cell_type": "markdown",
      "metadata": {
        "id": "sg8UkVbcdOEk"
      },
      "source": [
        "Habilitar GPU\n",
        "\n",
        "\n",
        "> Ir em Runtime no menu no topo --> Change runtime type --> Em Hardware accelerator, selecionar GPU."
      ]
    },
    {
      "cell_type": "code",
      "metadata": {
        "colab": {
          "base_uri": "https://localhost:8080/"
        },
        "id": "29vxjnW6c4ic",
        "outputId": "0eb395c0-6301-40c9-f8e4-8540ac98d9bb"
      },
      "source": [
        "import tensorflow as tf\n",
        "print(tf.__version__)\n",
        "#tf.debugging.set_log_device_placement(True)"
      ],
      "execution_count": null,
      "outputs": [
        {
          "output_type": "stream",
          "name": "stdout",
          "text": [
            "2.7.0\n"
          ]
        }
      ]
    },
    {
      "cell_type": "code",
      "metadata": {
        "colab": {
          "base_uri": "https://localhost:8080/"
        },
        "id": "KwxtMjTjdL_7",
        "outputId": "95a79927-e141-4f9c-e268-c8939ef65405"
      },
      "source": [
        "# check for GPU, at least 1 GPU needed\n",
        "print(tf.test.gpu_device_name())\n",
        "print(\"Num GPUs Available: \", len(tf.config.experimental.list_physical_devices('GPU')))"
      ],
      "execution_count": null,
      "outputs": [
        {
          "output_type": "stream",
          "name": "stdout",
          "text": [
            "/device:GPU:0\n",
            "Num GPUs Available:  1\n"
          ]
        }
      ]
    },
    {
      "cell_type": "code",
      "metadata": {
        "colab": {
          "base_uri": "https://localhost:8080/"
        },
        "id": "rfkTxNLFk6OT",
        "outputId": "a980c610-f7d8-4e71-a1ca-f4bbe4093d26"
      },
      "source": [
        "# Check GPU information\n",
        "!nvidia-smi"
      ],
      "execution_count": null,
      "outputs": [
        {
          "output_type": "stream",
          "name": "stdout",
          "text": [
            "Sun Dec  5 15:26:17 2021       \n",
            "+-----------------------------------------------------------------------------+\n",
            "| NVIDIA-SMI 495.44       Driver Version: 460.32.03    CUDA Version: 11.2     |\n",
            "|-------------------------------+----------------------+----------------------+\n",
            "| GPU  Name        Persistence-M| Bus-Id        Disp.A | Volatile Uncorr. ECC |\n",
            "| Fan  Temp  Perf  Pwr:Usage/Cap|         Memory-Usage | GPU-Util  Compute M. |\n",
            "|                               |                      |               MIG M. |\n",
            "|===============================+======================+======================|\n",
            "|   0  Tesla K80           Off  | 00000000:00:04.0 Off |                    0 |\n",
            "| N/A   38C    P0    57W / 149W |    145MiB / 11441MiB |      0%      Default |\n",
            "|                               |                      |                  N/A |\n",
            "+-------------------------------+----------------------+----------------------+\n",
            "                                                                               \n",
            "+-----------------------------------------------------------------------------+\n",
            "| Processes:                                                                  |\n",
            "|  GPU   GI   CI        PID   Type   Process name                  GPU Memory |\n",
            "|        ID   ID                                                   Usage      |\n",
            "|=============================================================================|\n",
            "|  No running processes found                                                 |\n",
            "+-----------------------------------------------------------------------------+\n"
          ]
        }
      ]
    },
    {
      "cell_type": "markdown",
      "metadata": {
        "id": "84QJGIXg6CO0"
      },
      "source": [
        "# Import Libraries and Packages\n",
        "\n",
        "We load some standard libraries and packages of sklearn and keras."
      ]
    },
    {
      "cell_type": "code",
      "metadata": {
        "id": "u8vgxRuH6X9B"
      },
      "source": [
        "import numpy as np\n",
        "import pandas as pd\n",
        "import seaborn as sns\n",
        "import matplotlib.pyplot as plt\n",
        "\n",
        "from math import sin, cos, pi\n",
        "\n",
        "from keras.layers import Conv2D, LeakyReLU, GlobalAveragePooling2D, Dropout, Dense\n",
        "from keras.models import Sequential\n",
        "from keras.utils import np_utils\n",
        "from keras.utils import to_categorical\n",
        "\n",
        "from sklearn.model_selection import train_test_split\n",
        "from sklearn.preprocessing import MinMaxScaler"
      ],
      "execution_count": null,
      "outputs": []
    },
    {
      "cell_type": "code",
      "metadata": {
        "id": "AboUk4ZgnIi8"
      },
      "source": [],
      "execution_count": null,
      "outputs": []
    },
    {
      "cell_type": "markdown",
      "metadata": {
        "id": "DNdT6XyHYrim"
      },
      "source": [
        "### Functions needed\n",
        "We defined some useful functions for preparing and ploting the data"
      ]
    },
    {
      "cell_type": "code",
      "metadata": {
        "id": "B_eVlDmjac4H"
      },
      "source": [
        "def plot_sample(image, keypoint, axis, title):\n",
        "    image = image.reshape(96,96)\n",
        "    axis.imshow(image, cmap='gray')\n",
        "    axis.scatter(keypoint[0::2], keypoint[1::2], marker='x', s=20)\n",
        "    plt.title(title)"
      ],
      "execution_count": null,
      "outputs": []
    },
    {
      "cell_type": "markdown",
      "metadata": {
        "id": "BBS7WA1AeiwT"
      },
      "source": [
        "## Dataset (import, preparation, preprocessing)\n",
        "\n",
        "> Banco de dados do desafio Kaggle, mais informações em:\n",
        "https://www.kaggle.com/c/challenges-in-representation-learning-facial-expression-recognition-challenge\n",
        "\n",
        "O banco de dados possui 3 colunas: emotions | pixels | Usage\n",
        "\n",
        "**Emotions**: são as emoções das imagens: 0=Angry, 1=Disgust, 2=Fear, 3=Happy, 4=Sad, 5=Surprise, 6=Neutral\n",
        "\n",
        "**Pixels**: é a imagem 64x64 (matriz de pixels )\n",
        "\n",
        "**Usage**: indica se é para ser usado como trainamento ou teste\n",
        "\n",
        "\n",
        "\n",
        "\n"
      ]
    },
    {
      "cell_type": "markdown",
      "metadata": {
        "id": "N9wNfb99e01_"
      },
      "source": [
        "! wget https://github.com/offsouza/Facial-Expression-Recognition/raw/master/fer2013.csv.zip"
      ]
    },
    {
      "cell_type": "code",
      "metadata": {
        "colab": {
          "base_uri": "https://localhost:8080/"
        },
        "id": "TQC0p7SPjQLB",
        "outputId": "d870007f-8b09-4b3e-c249-486c68d2079e"
      },
      "source": [
        "#Unzip file .zip\n",
        "! unzip /content/fer2013.csv.zip"
      ],
      "execution_count": null,
      "outputs": [
        {
          "output_type": "stream",
          "name": "stdout",
          "text": [
            "Archive:  /content/fer2013.csv.zip\n",
            "replace fer2013.csv? [y]es, [n]o, [A]ll, [N]one, [r]ename: n\n"
          ]
        }
      ]
    },
    {
      "cell_type": "markdown",
      "metadata": {
        "id": "VicWnaeKn89r"
      },
      "source": [
        "Load the image dataset with labels."
      ]
    },
    {
      "cell_type": "code",
      "metadata": {
        "colab": {
          "base_uri": "https://localhost:8080/",
          "height": 206
        },
        "id": "PZPU7Agknbrt",
        "outputId": "0ba4cd3a-90f3-499f-ce87-ab67c34a6455"
      },
      "source": [
        "data = pd.read_csv('/content/fer2013.csv.zip')\n",
        "data.head()"
      ],
      "execution_count": null,
      "outputs": [
        {
          "output_type": "execute_result",
          "data": {
            "text/html": [
              "<div>\n",
              "<style scoped>\n",
              "    .dataframe tbody tr th:only-of-type {\n",
              "        vertical-align: middle;\n",
              "    }\n",
              "\n",
              "    .dataframe tbody tr th {\n",
              "        vertical-align: top;\n",
              "    }\n",
              "\n",
              "    .dataframe thead th {\n",
              "        text-align: right;\n",
              "    }\n",
              "</style>\n",
              "<table border=\"1\" class=\"dataframe\">\n",
              "  <thead>\n",
              "    <tr style=\"text-align: right;\">\n",
              "      <th></th>\n",
              "      <th>emotion</th>\n",
              "      <th>pixels</th>\n",
              "      <th>Usage</th>\n",
              "    </tr>\n",
              "  </thead>\n",
              "  <tbody>\n",
              "    <tr>\n",
              "      <th>0</th>\n",
              "      <td>0</td>\n",
              "      <td>70 80 82 72 58 58 60 63 54 58 60 48 89 115 121...</td>\n",
              "      <td>Training</td>\n",
              "    </tr>\n",
              "    <tr>\n",
              "      <th>1</th>\n",
              "      <td>0</td>\n",
              "      <td>151 150 147 155 148 133 111 140 170 174 182 15...</td>\n",
              "      <td>Training</td>\n",
              "    </tr>\n",
              "    <tr>\n",
              "      <th>2</th>\n",
              "      <td>2</td>\n",
              "      <td>231 212 156 164 174 138 161 173 182 200 106 38...</td>\n",
              "      <td>Training</td>\n",
              "    </tr>\n",
              "    <tr>\n",
              "      <th>3</th>\n",
              "      <td>4</td>\n",
              "      <td>24 32 36 30 32 23 19 20 30 41 21 22 32 34 21 1...</td>\n",
              "      <td>Training</td>\n",
              "    </tr>\n",
              "    <tr>\n",
              "      <th>4</th>\n",
              "      <td>6</td>\n",
              "      <td>4 0 0 0 0 0 0 0 0 0 0 0 3 15 23 28 48 50 58 84...</td>\n",
              "      <td>Training</td>\n",
              "    </tr>\n",
              "  </tbody>\n",
              "</table>\n",
              "</div>"
            ],
            "text/plain": [
              "   emotion                                             pixels     Usage\n",
              "0        0  70 80 82 72 58 58 60 63 54 58 60 48 89 115 121...  Training\n",
              "1        0  151 150 147 155 148 133 111 140 170 174 182 15...  Training\n",
              "2        2  231 212 156 164 174 138 161 173 182 200 106 38...  Training\n",
              "3        4  24 32 36 30 32 23 19 20 30 41 21 22 32 34 21 1...  Training\n",
              "4        6  4 0 0 0 0 0 0 0 0 0 0 0 3 15 23 28 48 50 58 84...  Training"
            ]
          },
          "metadata": {},
          "execution_count": 17
        }
      ]
    },
    {
      "cell_type": "markdown",
      "metadata": {
        "id": "mTnfZLIp1pAG"
      },
      "source": [
        "Verificando a quantidade de dados\n",
        "\n",
        "Existe 35887 imagens com os  seguintes labels [0 1 2 3 5 6 ]\n"
      ]
    },
    {
      "cell_type": "code",
      "metadata": {
        "id": "87iTYlnbStRx",
        "colab": {
          "base_uri": "https://localhost:8080/"
        },
        "outputId": "505cf9ed-ef34-4469-bd62-b44e3cdcc66c"
      },
      "source": [
        "print('Count: ', data.count())\n",
        "print('Emotions labels', data.emotion.unique())"
      ],
      "execution_count": null,
      "outputs": [
        {
          "output_type": "stream",
          "name": "stdout",
          "text": [
            "Count:  emotion    35887\n",
            "pixels     35887\n",
            "Usage      35887\n",
            "dtype: int64\n",
            "Emotions labels [0 2 4 6 3 5 1]\n"
          ]
        }
      ]
    },
    {
      "cell_type": "markdown",
      "metadata": {
        "id": "nkxg59_X1xOG"
      },
      "source": [
        "Verificando a quantidade de imagens de cada emoção"
      ]
    },
    {
      "cell_type": "code",
      "metadata": {
        "id": "uSh3NaKT1zwh",
        "colab": {
          "base_uri": "https://localhost:8080/",
          "height": 269
        },
        "outputId": "7193b859-08aa-4094-a463-569c8355a83e"
      },
      "source": [
        "emotions =  { 0: \"Angry\", 1:'Disgust', 2:'Fear', 3:'Happy', 4:\"Sad\", 5:'Surprise', 6:'Neutral'}\n",
        "\n",
        "df = data['emotion'].value_counts()\n",
        "df = pd.DataFrame(df)\n",
        "df = df.rename(index=emotions)\n",
        "df"
      ],
      "execution_count": null,
      "outputs": [
        {
          "output_type": "execute_result",
          "data": {
            "text/html": [
              "<div>\n",
              "<style scoped>\n",
              "    .dataframe tbody tr th:only-of-type {\n",
              "        vertical-align: middle;\n",
              "    }\n",
              "\n",
              "    .dataframe tbody tr th {\n",
              "        vertical-align: top;\n",
              "    }\n",
              "\n",
              "    .dataframe thead th {\n",
              "        text-align: right;\n",
              "    }\n",
              "</style>\n",
              "<table border=\"1\" class=\"dataframe\">\n",
              "  <thead>\n",
              "    <tr style=\"text-align: right;\">\n",
              "      <th></th>\n",
              "      <th>emotion</th>\n",
              "    </tr>\n",
              "  </thead>\n",
              "  <tbody>\n",
              "    <tr>\n",
              "      <th>Happy</th>\n",
              "      <td>8989</td>\n",
              "    </tr>\n",
              "    <tr>\n",
              "      <th>Neutral</th>\n",
              "      <td>6198</td>\n",
              "    </tr>\n",
              "    <tr>\n",
              "      <th>Sad</th>\n",
              "      <td>6077</td>\n",
              "    </tr>\n",
              "    <tr>\n",
              "      <th>Fear</th>\n",
              "      <td>5121</td>\n",
              "    </tr>\n",
              "    <tr>\n",
              "      <th>Angry</th>\n",
              "      <td>4953</td>\n",
              "    </tr>\n",
              "    <tr>\n",
              "      <th>Surprise</th>\n",
              "      <td>4002</td>\n",
              "    </tr>\n",
              "    <tr>\n",
              "      <th>Disgust</th>\n",
              "      <td>547</td>\n",
              "    </tr>\n",
              "  </tbody>\n",
              "</table>\n",
              "</div>"
            ],
            "text/plain": [
              "          emotion\n",
              "Happy        8989\n",
              "Neutral      6198\n",
              "Sad          6077\n",
              "Fear         5121\n",
              "Angry        4953\n",
              "Surprise     4002\n",
              "Disgust       547"
            ]
          },
          "metadata": {},
          "execution_count": 46
        }
      ]
    },
    {
      "cell_type": "markdown",
      "metadata": {
        "id": "1oUIJ1WC4WJ1"
      },
      "source": [
        "Convertendo a coluna 'pixels' de String para Texto"
      ]
    },
    {
      "cell_type": "code",
      "metadata": {
        "id": "LF6XcgosadaJ",
        "colab": {
          "base_uri": "https://localhost:8080/"
        },
        "outputId": "a26c520e-1cc8-42f4-e085-79febf3155ed"
      },
      "source": [
        "# carregando imagens\n",
        "\n",
        "pix = data['pixels']  # Os pixels estão como texto(string) e não valor numérico, então passo o dataframe para um lista\n",
        "pix = list(pix) # convertendo para lista\n",
        "print(\"pix lista, primeiro valor: \\n\", pix[0:1],'\\n\\n') # imprimi a lista no formato formato texto\n",
        "lista_pix_int = list() # crio uma lista vazia\n",
        "\n",
        "from tqdm import tqdm   # mostra a barra de progresso\n",
        "for i in tqdm(pix):\n",
        "    # aqui eu faço um split da lista para que após o numero tenha uma virgula assim mudando de ['24 32 36' ] para ['24', '32', '36']\n",
        "    # no mesmo comando eu transformo de string(ex:'24') para inteiro(ex:24) assim obtendo um vetor(lista) de numero inteiros e não mais\n",
        "    # de strings\n",
        "    pix_int = [float(j) for j in i.split() ]\n",
        "    lista_pix_int.append(np.array(pix_int)) # realizado a transformação em um dos vetores, adiciono ele a uma lista\n",
        "\n",
        "\n",
        "image_label = np.array(lista_pix_int) # Converto a lista com valores numéricos para um array numpy\n",
        "print(\"pix array, primeiro valor: \\n\", image_label[0:1],'\\n\\n') # como pode notar a lista está em formato float\n",
        "print()\n",
        "print('---\\nShape: ', image_label.shape)"
      ],
      "execution_count": null,
      "outputs": [
        {
          "output_type": "stream",
          "name": "stdout",
          "text": [
            "pix lista, primeiro valor: \n",
            " ['70 80 82 72 58 58 60 63 54 58 60 48 89 115 121 119 115 110 98 91 84 84 90 99 110 126 143 153 158 171 169 172 169 165 129 110 113 107 95 79 66 62 56 57 61 52 43 41 65 61 58 57 56 69 75 70 65 56 54 105 146 154 151 151 155 155 150 147 147 148 152 158 164 172 177 182 186 189 188 190 188 180 167 116 95 103 97 77 72 62 55 58 54 56 52 44 50 43 54 64 63 71 68 64 52 66 119 156 161 164 163 164 167 168 170 174 175 176 178 179 183 187 190 195 197 198 197 198 195 191 190 145 86 100 90 65 57 60 54 51 41 49 56 47 38 44 63 55 46 52 54 55 83 138 157 158 165 168 172 171 173 176 179 179 180 182 185 187 189 189 192 197 200 199 196 198 200 198 197 177 91 87 96 58 58 59 51 42 37 41 47 45 37 35 36 30 41 47 59 94 141 159 161 161 164 170 171 172 176 178 179 182 183 183 187 189 192 192 194 195 200 200 199 199 200 201 197 193 111 71 108 69 55 61 51 42 43 56 54 44 24 29 31 45 61 72 100 136 150 159 163 162 163 170 172 171 174 177 177 180 187 186 187 189 192 192 194 195 196 197 199 200 201 200 197 201 137 58 98 92 57 62 53 47 41 40 51 43 24 35 52 63 75 104 129 143 149 158 162 164 166 171 173 172 174 178 178 179 187 188 188 191 193 194 195 198 199 199 197 198 197 197 197 201 164 52 78 87 69 58 56 50 54 39 44 42 26 31 49 65 91 119 134 145 147 152 159 163 167 171 170 169 174 178 178 179 187 187 185 187 190 188 187 191 197 201 199 199 200 197 196 197 182 58 62 77 61 60 55 49 59 52 54 44 22 30 47 68 102 123 136 144 148 150 153 157 167 172 173 170 171 177 179 178 186 190 186 189 196 193 191 194 190 190 192 197 201 203 199 194 189 69 48 74 56 60 57 50 59 59 51 41 20 34 47 79 111 132 139 143 145 147 150 151 160 169 172 171 167 171 177 177 174 180 182 181 192 196 189 192 198 195 194 196 198 201 202 195 189 70 39 69 61 61 61 53 59 59 45 40 26 40 61 93 124 135 138 142 144 146 151 152 158 165 168 168 165 161 164 173 172 167 172 167 180 198 198 193 199 195 194 198 200 198 197 195 190 65 35 68 59 59 62 57 60 59 50 44 32 54 90 115 132 137 138 140 144 146 146 156 165 168 174 176 176 175 168 168 169 171 175 171 172 192 194 184 198 205 201 194 195 193 195 192 186 57 38 72 65 57 62 58 57 60 54 49 47 79 116 130 138 141 141 139 141 143 145 157 164 164 166 173 174 176 179 179 176 181 189 188 173 180 175 160 182 189 198 192 189 190 190 188 172 46 44 64 66 59 62 57 56 62 53 50 66 103 133 137 141 143 141 136 132 131 136 127 118 111 107 108 123 131 143 154 158 166 177 181 175 170 159 148 171 161 176 185 192 194 188 190 162 53 49 58 63 61 61 55 56 61 51 50 81 116 139 142 142 146 144 136 128 119 112 97 85 90 91 88 92 90 80 81 84 106 122 132 144 145 144 147 163 147 163 173 181 190 187 191 167 61 48 53 61 61 58 54 56 61 51 53 89 123 140 144 145 146 147 136 122 107 99 95 92 90 87 83 76 67 52 46 52 63 69 83 96 119 132 148 159 136 137 143 138 143 152 156 156 70 48 50 59 61 57 54 54 61 52 56 93 124 135 140 144 148 150 140 125 114 101 80 54 56 54 41 41 33 40 39 35 49 60 63 74 107 129 147 147 116 111 100 77 76 86 108 111 73 49 50 60 62 60 57 55 63 59 56 89 121 134 139 146 151 152 150 141 127 111 96 77 85 70 32 31 37 91 65 50 48 59 73 83 112 136 155 130 60 46 38 40 43 81 116 91 72 52 48 58 62 62 59 53 61 59 52 85 114 134 140 147 154 159 158 153 145 143 150 126 121 125 68 45 89 137 95 70 78 75 95 109 131 153 171 94 23 16 32 82 82 65 113 77 71 54 48 56 62 62 60 53 60 56 52 75 108 133 141 149 158 166 169 167 163 156 155 146 112 119 134 127 142 140 121 117 129 114 120 129 146 174 191 98 46 33 33 109 147 98 109 67 73 55 50 56 64 64 61 58 61 53 54 64 106 129 140 148 159 169 175 176 174 165 159 156 145 120 115 124 127 131 133 141 147 142 141 147 161 182 202 154 114 96 100 158 158 153 123 61 76 57 48 56 64 64 63 62 61 54 55 44 97 131 137 147 158 168 177 181 183 179 170 168 169 165 155 152 151 152 154 162 165 158 153 158 168 187 206 186 147 135 144 145 152 178 115 57 74 58 48 58 64 63 63 59 63 55 53 66 104 130 132 144 153 162 170 180 185 187 181 178 182 180 177 173 171 171 177 176 172 164 161 167 164 185 207 197 173 152 141 141 161 191 104 54 69 60 48 57 65 62 60 57 64 55 50 94 111 124 130 135 150 159 163 172 179 184 184 178 178 177 173 171 174 177 178 176 169 165 161 163 161 180 205 201 183 171 177 178 180 194 101 55 65 60 47 55 65 63 59 58 63 57 52 90 105 117 122 130 143 153 157 163 171 174 182 183 182 178 174 175 175 177 175 172 163 161 159 157 162 178 200 201 188 181 172 177 187 198 98 57 63 61 48 52 61 64 63 60 65 57 51 95 104 113 117 127 136 145 152 156 162 162 165 173 177 182 183 183 180 181 177 165 153 154 152 153 160 174 193 200 188 185 180 182 192 196 101 60 60 56 49 50 60 66 64 62 64 59 53 99 104 111 112 118 132 142 147 155 158 160 159 162 171 176 184 186 183 180 169 154 141 135 145 155 164 180 196 205 188 189 188 189 193 192 98 61 64 55 49 49 60 66 63 64 63 60 57 99 105 108 112 113 125 139 143 150 155 158 164 169 174 176 182 183 182 177 163 141 133 147 151 164 170 185 200 210 194 188 192 186 185 180 88 64 67 60 46 50 59 65 64 64 64 59 56 101 103 108 109 109 118 134 143 143 147 155 159 166 171 174 177 179 178 172 153 129 143 161 159 166 171 186 197 207 203 185 191 183 179 164 73 67 67 66 48 50 57 65 65 63 64 61 57 103 108 114 112 110 115 128 138 144 145 152 156 159 164 168 172 172 169 161 139 125 147 156 161 162 164 180 188 188 197 185 187 181 180 137 65 70 68 70 52 47 53 62 65 63 65 61 58 105 109 112 120 113 112 122 134 141 149 150 153 155 159 164 167 167 162 152 134 115 126 119 106 99 109 141 158 150 155 175 184 176 175 106 63 70 68 68 50 46 50 57 63 63 64 61 59 107 110 110 117 117 114 117 128 137 147 148 150 153 156 161 162 163 156 150 148 105 70 45 26 25 47 73 74 79 128 177 180 173 157 77 66 68 67 68 52 49 51 56 62 62 62 62 60 101 107 108 114 115 114 117 125 134 143 148 149 152 154 158 160 158 155 160 158 132 88 73 73 64 52 66 91 138 160 174 173 171 125 64 67 63 64 68 54 50 49 54 60 60 60 62 60 98 105 105 109 111 114 117 125 131 139 145 148 153 153 156 157 156 161 168 165 153 139 122 115 105 89 103 150 182 161 171 173 162 89 64 64 62 64 69 56 48 49 56 58 60 59 62 60 89 99 108 106 109 111 119 120 125 134 140 146 152 153 153 153 156 159 162 160 150 136 129 133 133 122 133 148 178 168 168 175 132 61 67 66 65 63 69 57 47 50 55 58 59 61 62 60 89 96 105 107 105 107 117 120 123 124 133 141 149 153 151 145 151 145 139 140 138 128 126 124 129 125 136 142 164 172 168 168 87 58 67 63 62 61 69 57 39 44 55 56 59 63 62 62 84 91 92 98 102 103 113 119 121 118 128 138 146 151 147 142 140 128 127 128 129 126 135 140 135 130 143 146 149 166 174 131 62 65 62 59 67 63 68 83 89 65 42 52 60 60 62 63 77 84 84 91 99 101 107 112 117 118 122 134 145 149 144 134 127 127 129 130 134 125 126 132 152 153 151 150 151 165 171 87 59 65 64 61 58 86 122 138 208 207 154 71 52 56 55 56 69 77 83 85 93 91 102 112 116 118 119 127 140 144 142 131 112 95 85 75 62 58 56 59 87 88 83 127 142 165 149 62 65 62 59 77 113 192 156 84 185 196 197 168 81 70 75 69 58 65 73 82 81 79 95 107 114 116 116 123 136 142 136 132 131 102 71 58 49 41 33 41 36 49 60 99 136 168 111 53 63 71 138 186 203 195 146 87 91 72 79 95 103 82 61 74 55 57 68 75 76 77 84 96 106 110 111 121 130 138 136 142 153 159 152 152 154 145 133 136 147 158 156 155 147 158 74 57 60 123 181 174 126 89 72 67 57 43 55 67 76 86 60 45 51 45 52 68 75 73 77 88 96 100 104 113 115 121 134 146 149 146 149 148 155 168 174 179 178 169 169 174 161 131 44 47 82 150 168 136 104 75 66 80 67 58 48 54 68 88 121 102 51 45 38 53 66 65 70 86 92 96 102 103 109 116 130 136 136 133 136 138 137 135 128 130 143 158 165 164 147 87 62 74 123 160 170 100 99 107 79 71 86 75 57 45 49 65 122 130 43 48 40 39 55 61 59 71 82 87 88 93 105 118 123 128 130 124 111 98 94 88 67 55 84 129 147 148 105 48 82 142 161 164 164 76 72 85 100 88 72 90 84 54 48 54 73 100 73 36 44 31 37 53 51 55 67 74 77 87 97 108 118 125 132 122 106 86 80 82 75 73 83 110 129 126 46 22 130 177 196 193 166 72 52 54 73 100 92 75 99 95 65 68 61 63 91 65 42 37 22 28 39 44 57 68 74 83 92 101 119 131 143 141 134 136 140 139 134 136 139 138 136 85 23 114 202 198 199 180 173 98 36 86 130 150 137 99 77 101 99 72 56 43 77 82 79 70 56 28 20 25 36 50 63 73 83 98 111 124 139 156 160 159 169 168 165 163 159 149 114 43 26 133 183 192 177 152 137 130 125 139 173 195 186 137 101 88 101 105 70 46 77 72 84 87 87 81 64 37 20 31 40 46 65 88 108 110 125 149 157 153 162 164 158 159 154 140 78 21 11 61 144 168 173 157 138 150 148 132 159 182 183 136 106 116 95 106 109 82'] \n",
            "\n",
            "\n"
          ]
        },
        {
          "output_type": "stream",
          "name": "stderr",
          "text": [
            "100%|██████████| 35887/35887 [00:23<00:00, 1508.83it/s]\n"
          ]
        },
        {
          "output_type": "stream",
          "name": "stdout",
          "text": [
            "pix array, primeiro valor: \n",
            " [[ 70.  80.  82. ... 106. 109.  82.]] \n",
            "\n",
            "\n",
            "\n",
            "---\n",
            "Shape:  (35887, 2304)\n"
          ]
        }
      ]
    },
    {
      "cell_type": "code",
      "metadata": {
        "id": "3hm11eh5nTls",
        "colab": {
          "base_uri": "https://localhost:8080/"
        },
        "outputId": "691089eb-c75c-4c15-a83b-d98fbd1b79d8"
      },
      "source": [
        "scaler = MinMaxScaler()\n",
        "df_n = scaler.fit_transform(image_label)\n",
        "\n",
        "print(df_n)\n",
        "\n",
        "image_label = df_n"
      ],
      "execution_count": null,
      "outputs": [
        {
          "output_type": "stream",
          "name": "stdout",
          "text": [
            "[[0.2745098  0.31372549 0.32156863 ... 0.41568627 0.42745098 0.32156863]\n",
            " [0.59215686 0.58823529 0.57647059 ... 0.75686275 0.71764706 0.72156863]\n",
            " [0.90588235 0.83137255 0.61176471 ... 0.34509804 0.43137255 0.59607843]\n",
            " ...\n",
            " [0.06666667 0.06666667 0.0627451  ... 0.60392157 0.52156863 0.44313725]\n",
            " [0.11764706 0.10980392 0.10980392 ... 0.1372549  0.11764706 0.10980392]\n",
            " [0.0745098  0.05098039 0.05490196 ... 0.74117647 0.78039216 0.78823529]]\n"
          ]
        }
      ]
    },
    {
      "cell_type": "code",
      "metadata": {
        "id": "qcLe5f4I0aVv",
        "colab": {
          "base_uri": "https://localhost:8080/"
        },
        "outputId": "f26d3dd0-e75d-415b-8a24-9365ed08b66e"
      },
      "source": [
        "df_n[0:1]"
      ],
      "execution_count": null,
      "outputs": [
        {
          "output_type": "execute_result",
          "data": {
            "text/plain": [
              "array([[0.2745098 , 0.31372549, 0.32156863, ..., 0.41568627, 0.42745098,\n",
              "        0.32156863]])"
            ]
          },
          "metadata": {},
          "execution_count": 23
        }
      ]
    },
    {
      "cell_type": "code",
      "metadata": {
        "id": "HwpgynnkV-iH",
        "colab": {
          "base_uri": "https://localhost:8080/"
        },
        "outputId": "729348d3-d26f-452c-8da6-09181804166c"
      },
      "source": [
        "  # watching the shape (22366, 2304)\n",
        "   # we have 22366 images that are in a 2304 position vector\n",
        "   # but we know that the images have a size of 48x48 = 2304\n",
        "\n",
        "   # So we have to resize all images to 48x48\n",
        "\n",
        "print(type(image_label))\n",
        "reshape_pix = image_label.reshape(image_label.shape[0], 48,48,1)\n",
        "print(\"Shape antigo:\" , image_label.shape)\n",
        "print(\"Shape novo:\" , reshape_pix.shape)"
      ],
      "execution_count": null,
      "outputs": [
        {
          "output_type": "stream",
          "name": "stdout",
          "text": [
            "<class 'numpy.ndarray'>\n",
            "Shape antigo: (35887, 2304)\n",
            "Shape novo: (35887, 48, 48, 1)\n"
          ]
        }
      ]
    },
    {
      "cell_type": "code",
      "metadata": {
        "id": "R40Jz0pcuHsP",
        "colab": {
          "base_uri": "https://localhost:8080/"
        },
        "outputId": "b7955c2f-a859-46de-97c8-21202f3772b9"
      },
      "source": [
        "# now we have our image ie our input data in the proper format\n",
        "# We have to split our data into training, testing and validation data\n",
        "# I will split training data by 60%, Test 20% and Validation 20%\n",
        "\n",
        "X = reshape_pix\n",
        "y = data['emotion'].values\n",
        "\n",
        "\n",
        "labels = pd.DataFrame(y)\n",
        "y = np_utils.to_categorical(labels)\n",
        "\n",
        "X_train, X_test_val, y_train, y_test_val = train_test_split(X, y, test_size=0.4, random_state=42,shuffle= True)\n",
        "\n",
        "print('X_train: ', X_train.shape)\n",
        "print('y_train: ', y_train.shape)\n",
        "print('X_teste_val: ', X_test_val.shape)\n",
        "print('y_teste_val: ', y_test_val.shape)\n",
        "\n",
        "X_test, X_val, y_test, y_val = train_test_split(X_test_val, y_test_val, test_size=0.5, random_state=42, shuffle= True)\n",
        "print('\\n ---------------\\n')\n",
        "print('X_teste: ', X_test.shape)\n",
        "print('y_test: ', y_test.shape)\n",
        "print('X_val: ', X_val.shape)\n",
        "print('y_val: ', y_val.shape)"
      ],
      "execution_count": null,
      "outputs": [
        {
          "output_type": "stream",
          "name": "stdout",
          "text": [
            "X_train:  (21532, 48, 48, 1)\n",
            "y_train:  (21532, 7)\n",
            "X_teste_val:  (14355, 48, 48, 1)\n",
            "y_teste_val:  (14355, 7)\n",
            "\n",
            " ---------------\n",
            "\n",
            "X_teste:  (7177, 48, 48, 1)\n",
            "y_test:  (7177, 7)\n",
            "X_val:  (7178, 48, 48, 1)\n",
            "y_val:  (7178, 7)\n"
          ]
        }
      ]
    },
    {
      "cell_type": "code",
      "metadata": {
        "id": "oLTCd2aE7dBP",
        "colab": {
          "base_uri": "https://localhost:8080/"
        },
        "outputId": "731c3a8a-7da9-4989-b7d0-0485549e859e"
      },
      "source": [
        "y[0]"
      ],
      "execution_count": null,
      "outputs": [
        {
          "output_type": "execute_result",
          "data": {
            "text/plain": [
              "array([1., 0., 0., 0., 0., 0., 0.], dtype=float32)"
            ]
          },
          "metadata": {},
          "execution_count": 26
        }
      ]
    },
    {
      "cell_type": "markdown",
      "metadata": {
        "id": "y6kYssBQZ_E4"
      },
      "source": [
        "# display the images"
      ]
    },
    {
      "cell_type": "code",
      "metadata": {
        "id": "M4ra5Vo0xTQJ",
        "colab": {
          "base_uri": "https://localhost:8080/",
          "height": 268
        },
        "outputId": "6f96105b-ab5b-4d6d-e324-ebc2699fe391"
      },
      "source": [
        "x = X_train.reshape(X_train.shape[0], 48,48) #\n",
        "\n",
        "# plot\n",
        "import matplotlib.pyplot as plt\n",
        "j =0\n",
        "for i in range(8, 14):\n",
        "    j+=1\n",
        "    plt.subplot(2,3 ,j)\n",
        "    image = x[i]\n",
        "    plt.imshow(image, cmap= 'gray')\n",
        "    #plt.text(0,45, emotions [y_train[i]], fontsize = 20, color = 'red')\n",
        "plt.show()"
      ],
      "execution_count": null,
      "outputs": [
        {
          "output_type": "display_data",
          "data": {
            "image/png": "[encoded data removed]",
            "text/plain": [
              "<Figure size 432x288 with 6 Axes>"
            ]
          },
          "metadata": {}
        }
      ]
    },
    {
      "cell_type": "code",
      "metadata": {
        "colab": {
          "base_uri": "https://localhost:8080/",
          "height": 622
        },
        "id": "LgFlIwCdjL09",
        "outputId": "996c7c72-8df1-469e-f902-b7b4d2911e5d"
      },
      "source": [
        "def plot_examples(label=0):\n",
        "    fig, axs = plt.subplots(1, 5, figsize=(25, 12))\n",
        "    fig.subplots_adjust(hspace = .2, wspace=.2)\n",
        "    axs = axs.ravel()\n",
        "    for i in range(5):\n",
        "        idx = data[data['emotion']==label].index[i]\n",
        "        axs[i].imshow(train_images[idx][:,:,0], cmap='gray')\n",
        "        axs[i].set_title(emotions[train_labels[idx].argmax()])\n",
        "        axs[i].set_xticklabels([])\n",
        "        axs[i].set_yticklabels([])\n",
        "\n"
      ],
      "execution_count": null,
      "outputs": [
        {
          "output_type": "error",
          "ename": "NameError",
          "evalue": "ignored",
          "traceback": [
            "\u001b[0;31m---------------------------------------------------------------------------\u001b[0m",
            "\u001b[0;31mNameError\u001b[0m                                 Traceback (most recent call last)",
            "\u001b[0;32m<ipython-input-47-eae34ea4ddfc>\u001b[0m in \u001b[0;36m<module>\u001b[0;34m()\u001b[0m\n\u001b[1;32m     10\u001b[0m         \u001b[0maxs\u001b[0m\u001b[0;34m[\u001b[0m\u001b[0mi\u001b[0m\u001b[0;34m]\u001b[0m\u001b[0;34m.\u001b[0m\u001b[0mset_yticklabels\u001b[0m\u001b[0;34m(\u001b[0m\u001b[0;34m[\u001b[0m\u001b[0;34m]\u001b[0m\u001b[0;34m)\u001b[0m\u001b[0;34m\u001b[0m\u001b[0;34m\u001b[0m\u001b[0m\n\u001b[1;32m     11\u001b[0m \u001b[0;34m\u001b[0m\u001b[0m\n\u001b[0;32m---> 12\u001b[0;31m \u001b[0mplot_examples\u001b[0m\u001b[0;34m(\u001b[0m\u001b[0mlabel\u001b[0m\u001b[0;34m=\u001b[0m\u001b[0;36m5\u001b[0m\u001b[0;34m)\u001b[0m\u001b[0;34m\u001b[0m\u001b[0;34m\u001b[0m\u001b[0m\n\u001b[0m",
            "\u001b[0;32m<ipython-input-47-eae34ea4ddfc>\u001b[0m in \u001b[0;36mplot_examples\u001b[0;34m(label)\u001b[0m\n\u001b[1;32m      6\u001b[0m         \u001b[0midx\u001b[0m \u001b[0;34m=\u001b[0m \u001b[0mdata\u001b[0m\u001b[0;34m[\u001b[0m\u001b[0mdata\u001b[0m\u001b[0;34m[\u001b[0m\u001b[0;34m'emotion'\u001b[0m\u001b[0;34m]\u001b[0m\u001b[0;34m==\u001b[0m\u001b[0mlabel\u001b[0m\u001b[0;34m]\u001b[0m\u001b[0;34m.\u001b[0m\u001b[0mindex\u001b[0m\u001b[0;34m[\u001b[0m\u001b[0mi\u001b[0m\u001b[0;34m]\u001b[0m\u001b[0;34m\u001b[0m\u001b[0;34m\u001b[0m\u001b[0m\n\u001b[1;32m      7\u001b[0m         \u001b[0maxs\u001b[0m\u001b[0;34m[\u001b[0m\u001b[0mi\u001b[0m\u001b[0;34m]\u001b[0m\u001b[0;34m.\u001b[0m\u001b[0mimshow\u001b[0m\u001b[0;34m(\u001b[0m\u001b[0mX_train\u001b[0m\u001b[0;34m[\u001b[0m\u001b[0midx\u001b[0m\u001b[0;34m]\u001b[0m\u001b[0;34m[\u001b[0m\u001b[0;34m:\u001b[0m\u001b[0;34m,\u001b[0m\u001b[0;34m:\u001b[0m\u001b[0;34m,\u001b[0m\u001b[0;36m0\u001b[0m\u001b[0;34m]\u001b[0m\u001b[0;34m,\u001b[0m \u001b[0mcmap\u001b[0m\u001b[0;34m=\u001b[0m\u001b[0;34m'gray'\u001b[0m\u001b[0;34m)\u001b[0m\u001b[0;34m\u001b[0m\u001b[0;34m\u001b[0m\u001b[0m\n\u001b[0;32m----> 8\u001b[0;31m         \u001b[0maxs\u001b[0m\u001b[0;34m[\u001b[0m\u001b[0mi\u001b[0m\u001b[0;34m]\u001b[0m\u001b[0;34m.\u001b[0m\u001b[0mset_title\u001b[0m\u001b[0;34m(\u001b[0m\u001b[0memotions\u001b[0m\u001b[0;34m[\u001b[0m\u001b[0mtrain_labels\u001b[0m\u001b[0;34m[\u001b[0m\u001b[0midx\u001b[0m\u001b[0;34m]\u001b[0m\u001b[0;34m.\u001b[0m\u001b[0margmax\u001b[0m\u001b[0;34m(\u001b[0m\u001b[0;34m)\u001b[0m\u001b[0;34m]\u001b[0m\u001b[0;34m)\u001b[0m\u001b[0;34m\u001b[0m\u001b[0;34m\u001b[0m\u001b[0m\n\u001b[0m\u001b[1;32m      9\u001b[0m         \u001b[0maxs\u001b[0m\u001b[0;34m[\u001b[0m\u001b[0mi\u001b[0m\u001b[0;34m]\u001b[0m\u001b[0;34m.\u001b[0m\u001b[0mset_xticklabels\u001b[0m\u001b[0;34m(\u001b[0m\u001b[0;34m[\u001b[0m\u001b[0;34m]\u001b[0m\u001b[0;34m)\u001b[0m\u001b[0;34m\u001b[0m\u001b[0;34m\u001b[0m\u001b[0m\n\u001b[1;32m     10\u001b[0m         \u001b[0maxs\u001b[0m\u001b[0;34m[\u001b[0m\u001b[0mi\u001b[0m\u001b[0;34m]\u001b[0m\u001b[0;34m.\u001b[0m\u001b[0mset_yticklabels\u001b[0m\u001b[0;34m(\u001b[0m\u001b[0;34m[\u001b[0m\u001b[0;34m]\u001b[0m\u001b[0;34m)\u001b[0m\u001b[0;34m\u001b[0m\u001b[0;34m\u001b[0m\u001b[0m\n",
            "\u001b[0;31mNameError\u001b[0m: name 'train_labels' is not defined"
          ]
        },
        {
          "output_type": "display_data",
          "data": {
            "image/png": "[encoded data removed]",
            "text/plain": [
              "<Figure size 1800x864 with 5 Axes>"
            ]
          },
          "metadata": {}
        }
      ]
    },
    {
      "cell_type": "markdown",
      "metadata": {
        "id": "Epp-_d1fluch"
      },
      "source": [
        "# Implementation of CNN Model\n",
        "\n",
        "The neural network that will be built will be based on the VGG16 architecture"
      ]
    },
    {
      "cell_type": "code",
      "metadata": {
        "id": "YP8qR9ZSzIoH"
      },
      "source": [
        "# importando todos os modulos\n",
        "\n",
        "import  os\n",
        "import  tensorflow as tf\n",
        "from    tensorflow import keras\n",
        "from    tensorflow.keras import datasets, layers, optimizers, models\n",
        "from    tensorflow.keras import regularizers\n",
        "from tensorflow.keras.callbacks import ModelCheckpoint, EarlyStopping, ReduceLROnPlateau"
      ],
      "execution_count": null,
      "outputs": []
    },
    {
      "cell_type": "code",
      "metadata": {
        "id": "2EG-CnFmu8Hx"
      },
      "source": [
        "class Block_ConvReluBN (keras.Model):\n",
        "\n",
        "  def __init__(self, filters, strides=1, kernel=3, padding = 'same', dp = 0.3):\n",
        "    super(Block_ConvReluBN, self).__init__()\n",
        "\n",
        "    self.conv =  keras.layers.Conv2D(filters, kernel, strides=strides, padding=padding)\n",
        "    self.bn= keras.layers.BatchNormalization()\n",
        "    self.relu = keras.layers.Activation('relu')\n",
        "    self.drop = keras.layers.Dropout(dp)\n",
        "\n",
        "  def call(self,x,training=None):\n",
        "\n",
        "    x = self.conv(x )\n",
        "    x = self.bn(x, training = training)\n",
        "    x = self.relu(x)\n",
        "    x = self.drop(x)\n",
        "\n",
        "    return x"
      ],
      "execution_count": null,
      "outputs": []
    },
    {
      "cell_type": "markdown",
      "metadata": {
        "id": "vfojusEiWBeP"
      },
      "source": [
        "## Creating VGG16 Model Class\n",
        "\n"
      ]
    },
    {
      "cell_type": "code",
      "metadata": {
        "id": "yHuYbDiPOVBi"
      },
      "source": [
        "class Model_VGG16(keras.Model):\n",
        "\n",
        "  def __init__(self,num_classes,**kwargs):\n",
        "    super(Model_VGG16, self).__init__(**kwargs)\n",
        "\n",
        "    self.num_classes = num_classes\n",
        "\n",
        "    self.block01 = Block_ConvReluBN(64)\n",
        "    self.block02 = Block_ConvReluBN(64)\n",
        "    self.maxpool1 =  keras.layers.MaxPooling2D(pool_size=(2, 2))\n",
        "\n",
        "    self.block03 = Block_ConvReluBN(128)\n",
        "    self.block04 = Block_ConvReluBN(128)\n",
        "    self.maxpool2 =  keras.layers.MaxPooling2D(pool_size=(2, 2))\n",
        "\n",
        "    self.block05 = Block_ConvReluBN(256)\n",
        "    self.block06 = Block_ConvReluBN(256)\n",
        "    self.block07 = Block_ConvReluBN(256)\n",
        "    self.maxpool3 =  keras.layers.MaxPooling2D(pool_size=(2, 2))\n",
        "\n",
        "    self.block08 = Block_ConvReluBN(512)\n",
        "    self.block09 = Block_ConvReluBN(512)\n",
        "    self.block10 = Block_ConvReluBN(512)\n",
        "    self.maxpool4 =  keras.layers.MaxPooling2D(pool_size=(2, 2))\n",
        "\n",
        "    self.block11 = Block_ConvReluBN(512)\n",
        "    self.block12 = Block_ConvReluBN(512)\n",
        "    self.block13 = Block_ConvReluBN(512)\n",
        "    self.maxpool5 =  keras.layers.MaxPooling2D(pool_size=(2, 2))\n",
        "\n",
        "    self.flatten = keras.layers.Flatten()\n",
        "    self.dense = keras.layers.Dense(512,kernel_regularizer=regularizers.l2(0.0001))\n",
        "    self.bn2 = keras.layers.BatchNormalization()\n",
        "    self.relu2 = keras.layers.Activation('relu')\n",
        "\n",
        "    self.out = keras.layers.Dense(self.num_classes)\n",
        "\n",
        "  def call(self, inputs,training=None):\n",
        "    x= inputs\n",
        "    x = self.block01(x)\n",
        "    x = self.block02(x)\n",
        "    x = self.maxpool1(x)\n",
        "\n",
        "    x = self.block03(x)\n",
        "    x = self.block04(x)\n",
        "    x = self.maxpool2(x)\n",
        "\n",
        "    x = self.block05(x)\n",
        "    x = self.block06(x)\n",
        "    x = self.block07(x)\n",
        "    x = self.maxpool3(x)\n",
        "\n",
        "    x = self.block08(x)\n",
        "    x = self.block09(x)\n",
        "    x = self.block10(x)\n",
        "    x = self.maxpool4(x)\n",
        "\n",
        "    x = self.block11(x)\n",
        "    x = self.block12(x)\n",
        "    x = self.block13(x)\n",
        "    x = self.maxpool5(x)\n",
        "\n",
        "    x = self.flatten(x)\n",
        "    x = self.dense(x)\n",
        "    x = self.relu2(x)\n",
        "    x = self.bn2(x, training)\n",
        "    x = self.out(x)\n",
        "\n",
        "    return x"
      ],
      "execution_count": null,
      "outputs": []
    },
    {
      "cell_type": "markdown",
      "metadata": {
        "id": "oN_PNMybTZ7M"
      },
      "source": [
        "Model build\n"
      ]
    },
    {
      "cell_type": "code",
      "metadata": {
        "id": "bZ71y47aOVEe",
        "colab": {
          "base_uri": "https://localhost:8080/"
        },
        "outputId": "e9731152-c2e7-4bc7-fdf6-151a2c4f180e"
      },
      "source": [
        "batch_size = 32\n",
        "classes = 7\n",
        "\n",
        "# build model and optimizer\n",
        "model = Model_VGG16(num_classes=classes)\n",
        "\n",
        "\n",
        "model.build(input_shape=(None, 48, 48,1))\n",
        "\n",
        "\n",
        "print(\"Number of variables in the model :\", len(model.trainable_variables))\n",
        "\n",
        "model.summary()"
      ],
      "execution_count": null,
      "outputs": [
        {
          "output_type": "stream",
          "name": "stdout",
          "text": [
            "Number of variables in the model : 58\n",
            "Model: \"model_vgg16\"\n",
            "_________________________________________________________________\n",
            " Layer (type)                Output Shape              Param #   \n",
            "=================================================================\n",
            " block__conv_relu_bn (Block_  multiple                 896       \n",
            " ConvReluBN)                                                     \n",
            "                                                                 \n",
            " block__conv_relu_bn_1 (Bloc  multiple                 37184     \n",
            " k_ConvReluBN)                                                   \n",
            "                                                                 \n",
            " max_pooling2d (MaxPooling2D  multiple                 0         \n",
            " )                                                               \n",
            "                                                                 \n",
            " block__conv_relu_bn_2 (Bloc  multiple                 74368     \n",
            " k_ConvReluBN)                                                   \n",
            "                                                                 \n",
            " block__conv_relu_bn_3 (Bloc  multiple                 148096    \n",
            " k_ConvReluBN)                                                   \n",
            "                                                                 \n",
            " max_pooling2d_1 (MaxPooling  multiple                 0         \n",
            " 2D)                                                             \n",
            "                                                                 \n",
            " block__conv_relu_bn_4 (Bloc  multiple                 296192    \n",
            " k_ConvReluBN)                                                   \n",
            "                                                                 \n",
            " block__conv_relu_bn_5 (Bloc  multiple                 591104    \n",
            " k_ConvReluBN)                                                   \n",
            "                                                                 \n",
            " block__conv_relu_bn_6 (Bloc  multiple                 591104    \n",
            " k_ConvReluBN)                                                   \n",
            "                                                                 \n",
            " max_pooling2d_2 (MaxPooling  multiple                 0         \n",
            " 2D)                                                             \n",
            "                                                                 \n",
            " block__conv_relu_bn_7 (Bloc  multiple                 1182208   \n",
            " k_ConvReluBN)                                                   \n",
            "                                                                 \n",
            " block__conv_relu_bn_8 (Bloc  multiple                 2361856   \n",
            " k_ConvReluBN)                                                   \n",
            "                                                                 \n",
            " block__conv_relu_bn_9 (Bloc  multiple                 2361856   \n",
            " k_ConvReluBN)                                                   \n",
            "                                                                 \n",
            " max_pooling2d_3 (MaxPooling  multiple                 0         \n",
            " 2D)                                                             \n",
            "                                                                 \n",
            " block__conv_relu_bn_10 (Blo  multiple                 2361856   \n",
            " ck_ConvReluBN)                                                  \n",
            "                                                                 \n",
            " block__conv_relu_bn_11 (Blo  multiple                 2361856   \n",
            " ck_ConvReluBN)                                                  \n",
            "                                                                 \n",
            " block__conv_relu_bn_12 (Blo  multiple                 2361856   \n",
            " ck_ConvReluBN)                                                  \n",
            "                                                                 \n",
            " max_pooling2d_4 (MaxPooling  multiple                 0         \n",
            " 2D)                                                             \n",
            "                                                                 \n",
            " flatten (Flatten)           multiple                  0         \n",
            "                                                                 \n",
            " dense (Dense)               multiple                  262656    \n",
            "                                                                 \n",
            " batch_normalization_13 (Bat  multiple                 2048      \n",
            " chNormalization)                                                \n",
            "                                                                 \n",
            " activation_13 (Activation)  multiple                  0         \n",
            "                                                                 \n",
            " dense_1 (Dense)             multiple                  3591      \n",
            "                                                                 \n",
            "=================================================================\n",
            "Total params: 14,998,727\n",
            "Trainable params: 14,989,255\n",
            "Non-trainable params: 9,472\n",
            "_________________________________________________________________\n"
          ]
        }
      ]
    },
    {
      "cell_type": "markdown",
      "metadata": {
        "id": "aqlTLJS9TfbY"
      },
      "source": [
        "### Training using Keras"
      ]
    },
    {
      "cell_type": "code",
      "metadata": {
        "id": "u54666-0w2T1",
        "colab": {
          "base_uri": "https://localhost:8080/"
        },
        "outputId": "5632861a-46f5-411c-82bf-d57a6315bf41"
      },
      "source": [
        "# treinamento keras\n",
        "# compilando o otimizador, função de perda e metricas\n",
        "model.compile(optimizer=keras.optimizers.Adam(0.001),\n",
        "              loss=keras.losses.CategoricalCrossentropy(from_logits=True),\n",
        "              metrics=['accuracy'])\n",
        "\n",
        "check = ModelCheckpoint(filepath='weights_keras.hdf5', verbose=1, save_best_only=True)\n",
        "#early = EarlyStopping(monitor='val_loss',patience=1)\n",
        "\n",
        "# train\n",
        "history = model.fit(X_train, y_train, batch_size=100, epochs=20, verbose=1,\n",
        "         validation_data=(X_val , y_val)) # callbacks=[ check, early]"
      ],
      "execution_count": null,
      "outputs": [
        {
          "output_type": "stream",
          "name": "stdout",
          "text": [
            "Epoch 1/20\n",
            "216/216 [==============================] - 70s 267ms/step - loss: 1.9368 - accuracy: 0.2386 - val_loss: 1.8768 - val_accuracy: 0.2527\n",
            "Epoch 2/20\n",
            "216/216 [==============================] - 55s 257ms/step - loss: 1.8519 - accuracy: 0.2571 - val_loss: 1.9914 - val_accuracy: 0.1167\n",
            "Epoch 3/20\n",
            "216/216 [==============================] - 56s 257ms/step - loss: 1.7866 - accuracy: 0.2893 - val_loss: 2.0614 - val_accuracy: 0.2527\n",
            "Epoch 4/20\n",
            "216/216 [==============================] - 56s 257ms/step - loss: 1.6380 - accuracy: 0.3628 - val_loss: 1.6107 - val_accuracy: 0.3738\n",
            "Epoch 5/20\n",
            "216/216 [==============================] - 56s 257ms/step - loss: 1.4866 - accuracy: 0.4307 - val_loss: 1.8099 - val_accuracy: 0.3533\n",
            "Epoch 6/20\n",
            "216/216 [==============================] - 56s 257ms/step - loss: 1.3753 - accuracy: 0.4809 - val_loss: 1.4877 - val_accuracy: 0.4452\n",
            "Epoch 7/20\n",
            "216/216 [==============================] - 56s 258ms/step - loss: 1.3093 - accuracy: 0.5078 - val_loss: 1.3573 - val_accuracy: 0.5050\n",
            "Epoch 8/20\n",
            "216/216 [==============================] - 56s 257ms/step - loss: 1.2579 - accuracy: 0.5325 - val_loss: 1.3673 - val_accuracy: 0.5220\n",
            "Epoch 9/20\n",
            "216/216 [==============================] - 55s 257ms/step - loss: 1.2171 - accuracy: 0.5497 - val_loss: 1.3063 - val_accuracy: 0.5252\n",
            "Epoch 10/20\n",
            "216/216 [==============================] - 56s 257ms/step - loss: 1.1675 - accuracy: 0.5658 - val_loss: 1.3493 - val_accuracy: 0.5138\n",
            "Epoch 11/20\n",
            "216/216 [==============================] - 56s 257ms/step - loss: 1.1390 - accuracy: 0.5749 - val_loss: 1.3566 - val_accuracy: 0.5131\n",
            "Epoch 12/20\n",
            "216/216 [==============================] - 56s 257ms/step - loss: 1.1013 - accuracy: 0.5941 - val_loss: 1.4504 - val_accuracy: 0.4450\n",
            "Epoch 13/20\n",
            "216/216 [==============================] - 55s 256ms/step - loss: 1.0581 - accuracy: 0.6088 - val_loss: 1.3003 - val_accuracy: 0.5339\n",
            "Epoch 14/20\n",
            "216/216 [==============================] - 56s 258ms/step - loss: 1.0382 - accuracy: 0.6147 - val_loss: 1.1781 - val_accuracy: 0.5617\n",
            "Epoch 15/20\n",
            "216/216 [==============================] - 56s 257ms/step - loss: 1.0040 - accuracy: 0.6278 - val_loss: 1.1945 - val_accuracy: 0.5663\n",
            "Epoch 16/20\n",
            "216/216 [==============================] - 56s 257ms/step - loss: 0.9770 - accuracy: 0.6407 - val_loss: 1.1640 - val_accuracy: 0.5655\n",
            "Epoch 17/20\n",
            "216/216 [==============================] - 55s 257ms/step - loss: 0.9510 - accuracy: 0.6521 - val_loss: 1.1253 - val_accuracy: 0.5860\n",
            "Epoch 18/20\n",
            "216/216 [==============================] - 55s 257ms/step - loss: 0.9279 - accuracy: 0.6606 - val_loss: 1.1578 - val_accuracy: 0.5807\n",
            "Epoch 19/20\n",
            "216/216 [==============================] - 55s 256ms/step - loss: 0.9170 - accuracy: 0.6674 - val_loss: 1.1510 - val_accuracy: 0.5903\n",
            "Epoch 20/20\n",
            "216/216 [==============================] - 56s 258ms/step - loss: 0.8842 - accuracy: 0.6779 - val_loss: 1.1693 - val_accuracy: 0.5754\n"
          ]
        }
      ]
    },
    {
      "cell_type": "markdown",
      "metadata": {
        "id": "nezZiAKNU9nP"
      },
      "source": [
        "### Convergence analysis\n",
        "Plots to help analyse the quality of the model"
      ]
    },
    {
      "cell_type": "code",
      "metadata": {
        "id": "0eLBMQCWFO8r",
        "colab": {
          "base_uri": "https://localhost:8080/",
          "height": 369
        },
        "outputId": "238b11d6-9da8-427f-c3ba-769647996e0f"
      },
      "source": [
        "# evaluate on test set\n",
        "#scores = model.evaluate(X_test, y_test, batch_size, verbose=1)\n",
        "#print(\"Final test loss and accuracy :\", scores)\n",
        "\n",
        "sns.set_style('darkgrid')\n",
        "\n",
        "fig, ax = plt.subplots(2, 1, figsize=(20, 10))\n",
        "df = pd.DataFrame(history.history)\n",
        "df[['loss', 'val_loss']].plot(ax=ax[0])\n",
        "df[['accuracy', 'val_accuracy']].plot(ax=ax[1])\n",
        "ax[0].set_title('Model Loss', fontsize=12)\n",
        "ax[1].set_title('Model Accuracy', fontsize=12)\n",
        "fig.suptitle('Model Metrics', fontsize=18);"
      ],
      "execution_count": null,
      "outputs": [
        {
          "output_type": "display_data",
          "data": {
            "image/png": "[encoded data removed]",
            "text/plain": [
              "<Figure size 1440x720 with 2 Axes>"
            ]
          },
          "metadata": {}
        }
      ]
    },
    {
      "cell_type": "markdown",
      "metadata": {
        "id": "Zm-pdXvT2Mr_"
      },
      "source": [
        "evaluate the model and compute loss and accuracy"
      ]
    },
    {
      "cell_type": "markdown",
      "metadata": {
        "id": "R6ZyH7jP4k-G"
      },
      "source": [
        "Save the data obtained from the model"
      ]
    },
    {
      "cell_type": "code",
      "metadata": {
        "id": "dDv4ij3uYIjH",
        "colab": {
          "base_uri": "https://localhost:8080/"
        },
        "outputId": "1b9189b1-c295-42db-c3ea-92e401b77963"
      },
      "source": [
        "!zip -r model.zip model_full/"
      ],
      "execution_count": null,
      "outputs": [
        {
          "output_type": "stream",
          "name": "stdout",
          "text": [
            "\tzip warning: name not matched: model_full/\n",
            "\n",
            "zip error: Nothing to do! (try: zip -r model.zip . -i model_full/)\n"
          ]
        }
      ]
    },
    {
      "cell_type": "code",
      "metadata": {
        "id": "PrS2etdgO-e_",
        "colab": {
          "base_uri": "https://localhost:8080/"
        },
        "outputId": "39b90733-b8d0-4f01-e13c-3fd78bfd89d8"
      },
      "source": [
        "model.save('model_full2', save_format=\"tf\")\n"
      ],
      "execution_count": null,
      "outputs": [
        {
          "output_type": "stream",
          "name": "stdout",
          "text": [
            "INFO:tensorflow:Assets written to: model_full2/assets\n"
          ]
        }
      ]
    }
  ]
}